{
 "cells": [
  {
   "cell_type": "code",
   "execution_count": 5,
   "metadata": {},
   "outputs": [
    {
     "name": "stdout",
     "output_type": "stream",
     "text": [
      "Please enter the equation: a/l*d-r+t\n"
     ]
    }
   ],
   "source": [
    "\"\"\"\n",
    "Infix to postfix\n",
    "\n",
    "Anisur Rahman\n",
    "Id :143-15-4602\n",
    "\"\"\"\n",
    "\n",
    "\n",
    "\n",
    "equaction = input('Please enter the equation: ')"
   ]
  },
  {
   "cell_type": "code",
   "execution_count": 7,
   "metadata": {},
   "outputs": [
    {
     "name": "stdout",
     "output_type": "stream",
     "text": [
      "al*d/r-t+"
     ]
    }
   ],
   "source": [
    "operator = ['x', '/', '-', '+']\n",
    "output = []\n",
    "stack = []\n",
    "for i in equaction:\n",
    "    if i not in operator:\n",
    "        output.append(i)\n",
    "    else:\n",
    "        if len(stack) != 0:\n",
    "            if operator.index(stack[-1]) >= operator.index(i):\n",
    "                stack.append(i)\n",
    "            else:\n",
    "                output.append(stack[-1])\n",
    "                stack.pop()\n",
    "                stack.append(i)\n",
    "        else:\n",
    "            stack.append(i)\n",
    "\n",
    "outputs = output + stack[::-1]\n",
    "for i in outputs:\n",
    "    if i != \" \":\n",
    "        print(i, end=\"\")"
   ]
  },
  {
   "cell_type": "code",
   "execution_count": null,
   "metadata": {
    "collapsed": true
   },
   "outputs": [],
   "source": []
  }
 ],
 "metadata": {
  "kernelspec": {
   "display_name": "Python 3",
   "language": "python",
   "name": "python3"
  },
  "language_info": {
   "codemirror_mode": {
    "name": "ipython",
    "version": 3
   },
   "file_extension": ".py",
   "mimetype": "text/x-python",
   "name": "python",
   "nbconvert_exporter": "python",
   "pygments_lexer": "ipython3",
   "version": "3.6.3"
  }
 },
 "nbformat": 4,
 "nbformat_minor": 2
}
